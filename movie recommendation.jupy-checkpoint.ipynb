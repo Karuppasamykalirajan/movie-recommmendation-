{
 "cells": [
  {
   "cell_type": "code",
   "execution_count": 12,
   "id": "13e0d801-29ee-4c9e-bf56-eead758ba37d",
   "metadata": {
    "scrolled": true
   },
   "outputs": [
    {
     "name": "stdout",
     "output_type": "stream",
     "text": [
      "1               Avatar\n",
      "2             Serenity\n",
      "3    War of the Worlds\n",
      "4           District 9\n",
      "Name: title, dtype: object\n"
     ]
    }
   ],
   "source": [
    "import numpy as np\n",
    "import pandas as pd\n",
    "from sklearn.feature_extraction.text import TfidfVectorizer\n",
    "from sklearn.metrics.pairwise import linear_kernels\n",
    "\n",
    "# Sample dataset\n",
    "data = {\n",
    "    'title': ['The Matrix', 'Avatar', 'Serenity', 'War of the Worlds', 'District 9'],\n",
    "    'description': [\n",
    "        'A computer hacker learns from mysterious rebels about the true nature of his reality and his role in the war against its controllers.',\n",
    "        'A paraplegic Marine dispatched to the moon Pandora on a unique mission becomes torn between following his orders and protecting the world he feels is his home.',\n",
    "        'The crew of the ship Serenity try to evade an assassin sent to recapture one of their members who is telepathic.',\n",
    "        'As Earth is invaded by alien tripod fighting machines, one family fights for survival.',\n",
    "        'An extraterrestrial race forced to live in slum-like conditions on Earth suddenly finds a kindred spirit in a government agent who is exposed to their biotechnology.'\n",
    "    ]\n",
    "}\n",
    "\n",
    "# Convert the dataset to a DataFrame\n",
    "movies_df = pd.DataFrame(data)\n",
    "\n",
    "# Initialize the TF-IDF Vectorizer\n",
    "tfidf_vectorizer = TfidfVectorizer(stop_words='english')\n",
    "\n",
    "# Fit and transform the 'description' to a TF-IDF matrix\n",
    "tfidf_matrix = tfidf_vectorizer.fit_transform(movies_df['description'])\n",
    "\n",
    "# Compute the cosine similarity matrix\n",
    "cosine_sim = linear_kernel(tfidf_matrix, tfidf_matrix)\n",
    "\n",
    "# Function to get recommendations\n",
    "def get_recommendations(title, cosine_sim=cosine_sim):\n",
    "    # Get the index of the movie that matches the title\n",
    "    idx = movies_df.index[movies_df['title'] == title].tolist()[0]\n",
    "\n",
    "    # Get the pairwsie similarity scores of all movies with that movie\n",
    "    sim_scores = list(enumerate(cosine_sim[idx]))\n",
    "\n",
    "    # Sort the movies based on the similarity scores\n",
    "    sim_scores = sorted(sim_scores, key=lambda x: x[1], reverse=True)\n",
    "\n",
    "    # Get the scores of the 10 most similar movies\n",
    "    sim_scores = sim_scores[1:11]\n",
    "\n",
    "    # Get the movie indices\n",
    "    movie_indices = [i[0] for i in sim_scores]\n",
    "\n",
    "    # Return the top 10 most similar movies\n",
    "    return movies_df['title'].iloc[movie_indices]\n",
    "\n",
    "# Example usage\n",
    "print(get_recommendations('The Matrix'))\n"
   ]
  },
  {
   "cell_type": "code",
   "execution_count": null,
   "id": "1d75cc5d-fe12-449d-9aef-fe231aa0e933",
   "metadata": {},
   "outputs": [],
   "source": []
  },
  {
   "cell_type": "code",
   "execution_count": null,
   "id": "ef473a5c-fb43-42a8-b4e9-c844fdd0a1c1",
   "metadata": {},
   "outputs": [],
   "source": []
  }
 ],
 "metadata": {
  "kernelspec": {
   "display_name": "Python 3 (ipykernel)",
   "language": "python",
   "name": "python3"
  },
  "language_info": {
   "codemirror_mode": {
    "name": "ipython",
    "version": 3
   },
   "file_extension": ".py",
   "mimetype": "text/x-python",
   "name": "python",
   "nbconvert_exporter": "python",
   "pygments_lexer": "ipython3",
   "version": "3.12.2"
  }
 },
 "nbformat": 4,
 "nbformat_minor": 5
}
